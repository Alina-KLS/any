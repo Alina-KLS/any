{
 "cells": [
  {
   "cell_type": "code",
   "execution_count": 1,
   "id": "ac3cc9cd-9a1d-4742-86ef-837ac6a621eb",
   "metadata": {},
   "outputs": [],
   "source": [
    "from math import sqrt"
   ]
  },
  {
   "cell_type": "code",
   "execution_count": 3,
   "id": "c69829bf-0cf9-4fa5-814d-1a71acee60eb",
   "metadata": {},
   "outputs": [
    {
     "name": "stdin",
     "output_type": "stream",
     "text": [
      "введите первую переменную 2\n",
      "введите вторую переменную 3\n",
      "введите третью переменную 4\n"
     ]
    }
   ],
   "source": [
    "a = int(input(\"введите первую переменную\")) \n",
    "b = int(input(\"введите вторую переменную\")) \n",
    "c = int(input(\"введите третью переменную\"))"
   ]
  },
  {
   "cell_type": "code",
   "execution_count": 4,
   "id": "4c4452da-15d5-46ad-8b07-68107af6a5bb",
   "metadata": {},
   "outputs": [],
   "source": [
    "D = b**2-(4*a*c)"
   ]
  },
  {
   "cell_type": "code",
   "execution_count": 5,
   "id": "953a483c-84c9-49ca-9135-cb5bc31057b9",
   "metadata": {},
   "outputs": [
    {
     "name": "stdout",
     "output_type": "stream",
     "text": [
      "корней нет\n"
     ]
    }
   ],
   "source": [
    "if D > 0:\n",
    "    x1 = -1 * b + math.sqrt(D)\n",
    "    x2 = -1 * b - math.sqrt(D)\n",
    "    print(\"x1 = \", x1, \"x2 =\", x2)\n",
    "elif D == 0:\n",
    "    x = (-1*b)/(2*a)\n",
    "    print(\"x = \", x)\n",
    "else:\n",
    "    print(\"корней нет\")"
   ]
  }
 ],
 "metadata": {
  "kernelspec": {
   "display_name": "Python 3 (ipykernel)",
   "language": "python",
   "name": "python3"
  },
  "language_info": {
   "codemirror_mode": {
    "name": "ipython",
    "version": 3
   },
   "file_extension": ".py",
   "mimetype": "text/x-python",
   "name": "python",
   "nbconvert_exporter": "python",
   "pygments_lexer": "ipython3",
   "version": "3.12.4"
  }
 },
 "nbformat": 4,
 "nbformat_minor": 5
}
