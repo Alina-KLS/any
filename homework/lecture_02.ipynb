{
 "cells": [
  {
   "cell_type": "code",
   "execution_count": 13,
   "id": "3867cdcf-0a40-4e86-b93c-9f1bd19f2027",
   "metadata": {},
   "outputs": [
    {
     "name": "stdin",
     "output_type": "stream",
     "text": [
      "введите число от 0 до 99:  20\n"
     ]
    }
   ],
   "source": [
    "number = int(input(\"введите число от 0 до 99: \")) #ask user to enter any number from 0 to 99"
   ]
  },
  {
   "cell_type": "code",
   "execution_count": 14,
   "id": "9a3c5347-62e1-402f-838a-cb3256fc4cb7",
   "metadata": {},
   "outputs": [],
   "source": [
    "dictionary = { \n",
    "    0: 'ноль', 1: 'один', 2: 'два', 3: 'три', 4: 'четыре', 5: 'пять', 6: 'шесть', 7: 'семь', 8: 'восемь', 9: 'девять', 10: 'десять', \n",
    "    11: 'одиннадцать', 12: 'двенадцать', 13: 'тринадцать', 14: 'четырнадцать', 15: 'пятнадцать', 16: 'шестнадцать', 17: 'семнадцать', \n",
    "    18: 'восемнадцать', 19: 'девятнадцать', 20: 'двадцать', 30: 'тридцать', 40: 'сорок', 50: 'пятьдесят', 60: 'шестьдесят', 70: 'семьдесят', \n",
    "    80: 'восемьдесят', 90: 'девяносто' \n",
    "} #create a dictionary"
   ]
  },
  {
   "cell_type": "code",
   "execution_count": 15,
   "id": "4a376360-d474-4558-a16f-c8aa06905bdd",
   "metadata": {},
   "outputs": [
    {
     "name": "stdout",
     "output_type": "stream",
     "text": [
      "двадцать\n"
     ]
    }
   ],
   "source": [
    "if 0<=number<=99: #our range\n",
    "    dozens = number // 10 * 10 #find dozens\n",
    "    ones = number % 10 #find ones\n",
    "    if 10<number<20 or ones == 0: #for round numbers and 11-19\n",
    "        print(dictionary[number]) #print whole name\n",
    "    else: print(dictionary[dozens], '', dictionary[ones]) #for others prind its dozen + one\n",
    "else: print('число не соответствует условию') #if input is out of range\n",
    "        "
   ]
  },
  {
   "cell_type": "code",
   "execution_count": null,
   "id": "297ecee9-67ec-45b1-bce5-e6870d406961",
   "metadata": {},
   "outputs": [],
   "source": []
  }
 ],
 "metadata": {
  "kernelspec": {
   "display_name": "Python 3 (ipykernel)",
   "language": "python",
   "name": "python3"
  },
  "language_info": {
   "codemirror_mode": {
    "name": "ipython",
    "version": 3
   },
   "file_extension": ".py",
   "mimetype": "text/x-python",
   "name": "python",
   "nbconvert_exporter": "python",
   "pygments_lexer": "ipython3",
   "version": "3.12.4"
  }
 },
 "nbformat": 4,
 "nbformat_minor": 5
}
