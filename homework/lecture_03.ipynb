{
 "cells": [
  {
   "cell_type": "code",
   "execution_count": 1,
   "id": "b28ede35-56d7-48e1-8d5b-56b1a4e16322",
   "metadata": {},
   "outputs": [],
   "source": [
    "import re"
   ]
  },
  {
   "cell_type": "code",
   "execution_count": 4,
   "id": "61755eed-5b42-4576-98fb-435b1d2a9f95",
   "metadata": {},
   "outputs": [
    {
     "name": "stdin",
     "output_type": "stream",
     "text": [
      "введите температуру в градусах цельсия (пример: 0С) или фаренгейда (пример: 0F) 10C\n"
     ]
    }
   ],
   "source": [
    "temp = input(\"введите температуру в градусах цельсия (пример: 0С) или фаренгейда (пример: 0F)\")"
   ]
  },
  {
   "cell_type": "code",
   "execution_count": 5,
   "id": "80c6ca7c-03d0-4937-8c5b-c07d511958ca",
   "metadata": {},
   "outputs": [],
   "source": [
    "degree = temp[0: -1] #"
   ]
  },
  {
   "cell_type": "code",
   "execution_count": 7,
   "id": "ccdf89a4-9870-4a5e-aa15-8882336c5cd6",
   "metadata": {},
   "outputs": [
    {
     "name": "stdout",
     "output_type": "stream",
     "text": [
      "50.0F\n"
     ]
    }
   ],
   "source": [
    "if temp[-1] not in ['C', 'F'] or not re.fullmatch(r'\\d+', degree):\n",
    "    print('читайте внимательней условия')\n",
    "else:\n",
    "    if temp[-1] == \"C\":\n",
    "        res_far = ((int(degree)*1.8) + 32)\n",
    "        print(res_far, \"F\", sep = \"\")\n",
    "    else: \n",
    "        res_cel = (int(degree)-32)*5/9\n",
    "        print(res_cel, \"C\", sep = \"\")"
   ]
  }
 ],
 "metadata": {
  "kernelspec": {
   "display_name": "Python 3 (ipykernel)",
   "language": "python",
   "name": "python3"
  },
  "language_info": {
   "codemirror_mode": {
    "name": "ipython",
    "version": 3
   },
   "file_extension": ".py",
   "mimetype": "text/x-python",
   "name": "python",
   "nbconvert_exporter": "python",
   "pygments_lexer": "ipython3",
   "version": "3.12.4"
  }
 },
 "nbformat": 4,
 "nbformat_minor": 5
}
