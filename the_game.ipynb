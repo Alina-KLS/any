{
 "cells": [
  {
   "cell_type": "code",
   "execution_count": 40,
   "id": "44f96f98-6523-46ad-90a9-c2b3fe674f36",
   "metadata": {},
   "outputs": [],
   "source": [
    "import random\n",
    "import re"
   ]
  },
  {
   "cell_type": "code",
   "execution_count": 41,
   "id": "cf4bf8fc-42e7-4c53-a194-c4782a136be1",
   "metadata": {},
   "outputs": [],
   "source": [
    "numb = random.randint(0, 99)"
   ]
  },
  {
   "cell_type": "code",
   "execution_count": 42,
   "id": "610dee37-f65f-4e0e-9179-6aa53ba79345",
   "metadata": {},
   "outputs": [],
   "source": [
    "guess = None"
   ]
  },
  {
   "cell_type": "code",
   "execution_count": 51,
   "id": "790b22f3-015d-4fb6-8131-b31803355f90",
   "metadata": {},
   "outputs": [
    {
     "name": "stdin",
     "output_type": "stream",
     "text": [
      "введите число от 0 до 99 9\n"
     ]
    },
    {
     "name": "stdout",
     "output_type": "stream",
     "text": [
      "берите больше\n"
     ]
    },
    {
     "name": "stdin",
     "output_type": "stream",
     "text": [
      "введите число от 0 до 99 35\n"
     ]
    },
    {
     "name": "stdout",
     "output_type": "stream",
     "text": [
      "берите больше\n"
     ]
    },
    {
     "name": "stdin",
     "output_type": "stream",
     "text": [
      "введите число от 0 до 99 55\n"
     ]
    },
    {
     "name": "stdout",
     "output_type": "stream",
     "text": [
      "берите больше\n"
     ]
    },
    {
     "name": "stdin",
     "output_type": "stream",
     "text": [
      "введите число от 0 до 99 77\n"
     ]
    },
    {
     "name": "stdout",
     "output_type": "stream",
     "text": [
      "берите меньше\n"
     ]
    },
    {
     "name": "stdin",
     "output_type": "stream",
     "text": [
      "введите число от 0 до 99 66\n"
     ]
    },
    {
     "name": "stdout",
     "output_type": "stream",
     "text": [
      "берите больше\n"
     ]
    },
    {
     "name": "stdin",
     "output_type": "stream",
     "text": [
      "введите число от 0 до 99 68\n"
     ]
    },
    {
     "name": "stdout",
     "output_type": "stream",
     "text": [
      "берите больше\n"
     ]
    },
    {
     "name": "stdin",
     "output_type": "stream",
     "text": [
      "введите число от 0 до 99 70\n"
     ]
    },
    {
     "name": "stdout",
     "output_type": "stream",
     "text": [
      "берите больше\n"
     ]
    },
    {
     "name": "stdin",
     "output_type": "stream",
     "text": [
      "введите число от 0 до 99 75\n"
     ]
    },
    {
     "name": "stdout",
     "output_type": "stream",
     "text": [
      "берите меньше\n"
     ]
    },
    {
     "name": "stdin",
     "output_type": "stream",
     "text": [
      "введите число от 0 до 99 73\n"
     ]
    },
    {
     "name": "stdout",
     "output_type": "stream",
     "text": [
      "берите меньше\n"
     ]
    },
    {
     "name": "stdin",
     "output_type": "stream",
     "text": [
      "введите число от 0 до 99 72\n"
     ]
    },
    {
     "name": "stdout",
     "output_type": "stream",
     "text": [
      "берите меньше\n"
     ]
    },
    {
     "name": "stdin",
     "output_type": "stream",
     "text": [
      "введите число от 0 до 99 71\n"
     ]
    },
    {
     "name": "stdout",
     "output_type": "stream",
     "text": [
      "поздравляю, вы угадали!\n"
     ]
    }
   ],
   "source": [
    "while guess != numb:\n",
    "    guess = int(input(\"введите число от 0 до 99\"))\n",
    "    if guess < numb:\n",
    "          print(\"берите больше\")\n",
    "    elif guess > numb: \n",
    "          print(\"берите меньше\")\n",
    "        \n",
    "print(\"поздравляю, вы угадали!\")"
   ]
  },
  {
   "cell_type": "code",
   "execution_count": null,
   "id": "7559ba26-3980-439d-bc8b-b18020e4fab7",
   "metadata": {},
   "outputs": [],
   "source": []
  }
 ],
 "metadata": {
  "kernelspec": {
   "display_name": "Python 3 (ipykernel)",
   "language": "python",
   "name": "python3"
  },
  "language_info": {
   "codemirror_mode": {
    "name": "ipython",
    "version": 3
   },
   "file_extension": ".py",
   "mimetype": "text/x-python",
   "name": "python",
   "nbconvert_exporter": "python",
   "pygments_lexer": "ipython3",
   "version": "3.12.4"
  }
 },
 "nbformat": 4,
 "nbformat_minor": 5
}
