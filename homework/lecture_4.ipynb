{
 "cells": [
  {
   "cell_type": "code",
   "execution_count": 5,
   "id": "88def2e1-23b9-48d5-8c8b-15c4efc683fe",
   "metadata": {},
   "outputs": [],
   "source": [
    "import re\n",
    "import string"
   ]
  },
  {
   "cell_type": "code",
   "execution_count": 6,
   "id": "ad694d38-6a8d-487b-aeb9-fd8925c7cfaa",
   "metadata": {},
   "outputs": [
    {
     "name": "stdin",
     "output_type": "stream",
     "text": [
      "Введите целое число:  5\n"
     ]
    }
   ],
   "source": [
    "N = int(input('Введите целое число: '))"
   ]
  },
  {
   "cell_type": "code",
   "execution_count": 8,
   "id": "4087037f-21dd-475c-8822-80eb7491425b",
   "metadata": {},
   "outputs": [
    {
     "ename": "TypeError",
     "evalue": "expected string or bytes-like object, got 'int'",
     "output_type": "error",
     "traceback": [
      "\u001b[1;31m---------------------------------------------------------------------------\u001b[0m",
      "\u001b[1;31mTypeError\u001b[0m                                 Traceback (most recent call last)",
      "Cell \u001b[1;32mIn[8], line 1\u001b[0m\n\u001b[1;32m----> 1\u001b[0m \u001b[38;5;28;01mwhile\u001b[39;00m \u001b[38;5;129;01mnot\u001b[39;00m re\u001b[38;5;241m.\u001b[39mfullmatch(\u001b[38;5;124mr\u001b[39m\u001b[38;5;124m'\u001b[39m\u001b[38;5;124m\\\u001b[39m\u001b[38;5;124md+\u001b[39m\u001b[38;5;124m'\u001b[39m, N) \u001b[38;5;129;01mor\u001b[39;00m \u001b[38;5;28mint\u001b[39m(N) \u001b[38;5;241m<\u001b[39m\u001b[38;5;241m=\u001b[39m \u001b[38;5;241m2\u001b[39m:\n\u001b[0;32m      2\u001b[0m      \u001b[38;5;28;01mif\u001b[39;00m string\u001b[38;5;241m.\u001b[39mdigits \u001b[38;5;241m!=\u001b[39m \u001b[38;5;28;01mTrue\u001b[39;00m \u001b[38;5;129;01mand\u001b[39;00m \u001b[38;5;28mint\u001b[39m(N) \u001b[38;5;241m<\u001b[39m\u001b[38;5;241m=\u001b[39m\u001b[38;5;241m2\u001b[39m:\n\u001b[0;32m      3\u001b[0m          \u001b[38;5;28mprint\u001b[39m(\u001b[38;5;124m'\u001b[39m\u001b[38;5;124mнеподходящее число\u001b[39m\u001b[38;5;124m'\u001b[39m)\n",
      "File \u001b[1;32mC:\\ProgramData\\anaconda3\\Lib\\re\\__init__.py:172\u001b[0m, in \u001b[0;36mfullmatch\u001b[1;34m(pattern, string, flags)\u001b[0m\n\u001b[0;32m    169\u001b[0m \u001b[38;5;28;01mdef\u001b[39;00m \u001b[38;5;21mfullmatch\u001b[39m(pattern, string, flags\u001b[38;5;241m=\u001b[39m\u001b[38;5;241m0\u001b[39m):\n\u001b[0;32m    170\u001b[0m \u001b[38;5;250m    \u001b[39m\u001b[38;5;124;03m\"\"\"Try to apply the pattern to all of the string, returning\u001b[39;00m\n\u001b[0;32m    171\u001b[0m \u001b[38;5;124;03m    a Match object, or None if no match was found.\"\"\"\u001b[39;00m\n\u001b[1;32m--> 172\u001b[0m     \u001b[38;5;28;01mreturn\u001b[39;00m _compile(pattern, flags)\u001b[38;5;241m.\u001b[39mfullmatch(string)\n",
      "\u001b[1;31mTypeError\u001b[0m: expected string or bytes-like object, got 'int'"
     ]
    }
   ],
   "source": [
    "while not re.fullmatch(r'\\d+', N) or int(N) <= 2:\n",
    "     if string.digits != True and int(N) <=2:\n",
    "         print('неподходящее число')\n",
    "         N = int(input('введите другое число'))\n",
    "     else:\n",
    "         pass"
   ]
  },
  {
   "cell_type": "code",
   "execution_count": null,
   "id": "23df1991-fe2f-47fd-9704-467c9f73fc78",
   "metadata": {},
   "outputs": [],
   "source": [
    "prime = [True] * (N + 1)\n",
    "    p = 2\n",
    "    while (p ** 2 <= N):\n",
    "        if (prime[p] == True):\n",
    "            for i in range(p ** 2, N + 1, p):\n",
    "                prime[i] = False\n",
    "        p += 1\n",
    "    \n",
    "    primes = [p for p in range(2, N + 1) if prime[p]]\n",
    "    return primes\n",
    "\n",
    "print(primes)"
   ]
  },
  {
   "cell_type": "code",
   "execution_count": null,
   "id": "386ac3cc-7708-439b-9ec1-f8231e8cabc8",
   "metadata": {},
   "outputs": [],
   "source": []
  }
 ],
 "metadata": {
  "kernelspec": {
   "display_name": "Python 3 (ipykernel)",
   "language": "python",
   "name": "python3"
  },
  "language_info": {
   "codemirror_mode": {
    "name": "ipython",
    "version": 3
   },
   "file_extension": ".py",
   "mimetype": "text/x-python",
   "name": "python",
   "nbconvert_exporter": "python",
   "pygments_lexer": "ipython3",
   "version": "3.12.4"
  }
 },
 "nbformat": 4,
 "nbformat_minor": 5
}
